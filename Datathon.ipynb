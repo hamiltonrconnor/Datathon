{
 "cells": [
  {
   "cell_type": "code",
   "execution_count": 6,
   "id": "0c96e6ea",
   "metadata": {},
   "outputs": [],
   "source": [
    "import pandas as pd"
   ]
  },
  {
   "cell_type": "code",
   "execution_count": 8,
   "id": "e84671f7",
   "metadata": {},
   "outputs": [],
   "source": [
    "accident = pd.read_csv(\"Training Data/Training Data/accident_train.csv\")\n",
    "casualty = pd.read_csv(\"Training Data/Training Data/casualty_train.csv\")\n",
    "vehicle = pd.read_csv(\"Training Data/Training Data/vehicle_train.csv\")"
   ]
  },
  {
   "cell_type": "code",
   "execution_count": 12,
   "id": "1e36e558",
   "metadata": {},
   "outputs": [
    {
     "data": {
      "text/plain": [
       "(51214, 32)"
      ]
     },
     "execution_count": 12,
     "metadata": {},
     "output_type": "execute_result"
    }
   ],
   "source": [
    "accident.shape"
   ]
  },
  {
   "cell_type": "code",
   "execution_count": 13,
   "id": "ec45872d",
   "metadata": {},
   "outputs": [
    {
     "data": {
      "text/plain": [
       "(64759, 17)"
      ]
     },
     "execution_count": 13,
     "metadata": {},
     "output_type": "execute_result"
    }
   ],
   "source": [
    "casualty.shape"
   ]
  },
  {
   "cell_type": "code",
   "execution_count": 14,
   "id": "0b8fb4b2",
   "metadata": {},
   "outputs": [
    {
     "data": {
      "text/plain": [
       "(94659, 26)"
      ]
     },
     "execution_count": 14,
     "metadata": {},
     "output_type": "execute_result"
    }
   ],
   "source": [
    "vehicle.shape"
   ]
  },
  {
   "cell_type": "code",
   "execution_count": null,
   "id": "669c8399",
   "metadata": {},
   "outputs": [],
   "source": []
  }
 ],
 "metadata": {
  "hide_input": false,
  "kernelspec": {
   "display_name": "Python 3 (ipykernel)",
   "language": "python",
   "name": "python3"
  },
  "language_info": {
   "codemirror_mode": {
    "name": "ipython",
    "version": 3
   },
   "file_extension": ".py",
   "mimetype": "text/x-python",
   "name": "python",
   "nbconvert_exporter": "python",
   "pygments_lexer": "ipython3",
   "version": "3.9.7"
  }
 },
 "nbformat": 4,
 "nbformat_minor": 5
}
